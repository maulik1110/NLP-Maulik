{
 "cells": [
  {
   "cell_type": "code",
   "execution_count": 1,
   "id": "24f669de",
   "metadata": {},
   "outputs": [],
   "source": [
    "import nltk\n",
    "from nltk.stem import PorterStemmer, WordNetLemmatizer\n",
    "from nltk.tokenize import word_tokenize\n",
    "\n"
   ]
  },
  {
   "cell_type": "code",
   "execution_count": 5,
   "id": "c0b671fc",
   "metadata": {},
   "outputs": [
    {
     "name": "stdout",
     "output_type": "stream",
     "text": [
      "Enter textI am hailing from a state which is culturally rich in traditional methods and lots of food!\n",
      "Stemmed Words:\n",
      "['i', 'am', 'hail', 'from', 'a', 'state', 'which', 'is', 'cultur', 'rich', 'in', 'tradit', 'method', 'and', 'lot', 'of', 'food', '!']\n",
      "\n",
      "Lemmatized Words:\n",
      "['I', 'am', 'hailing', 'from', 'a', 'state', 'which', 'is', 'culturally', 'rich', 'in', 'traditional', 'method', 'and', 'lot', 'of', 'food', '!']\n"
     ]
    }
   ],
   "source": [
    "# Sample text\n",
    "text = input(\"Enter text\")\n",
    "\n",
    "# Tokenize the text\n",
    "words = word_tokenize(text)\n",
    "\n",
    "# Stemming using Porter Stemmer\n",
    "porter_stemmer = PorterStemmer()\n",
    "stemmed_words = [porter_stemmer.stem(word) for word in words]\n",
    "\n",
    "print(\"Stemmed Words:\")\n",
    "print(stemmed_words)\n",
    "\n",
    "# Lemmatization using WordNet Lemmatizer\n",
    "wordnet_lemmatizer = WordNetLemmatizer()\n",
    "lemmatized_words = [wordnet_lemmatizer.lemmatize(word) for word in words]\n",
    "\n",
    "print(\"\\nLemmatized Words:\")\n",
    "print(lemmatized_words)\n"
   ]
  },
  {
   "cell_type": "code",
   "execution_count": null,
   "id": "8af7ccda",
   "metadata": {},
   "outputs": [],
   "source": []
  }
 ],
 "metadata": {
  "kernelspec": {
   "display_name": "Python 3 (ipykernel)",
   "language": "python",
   "name": "python3"
  },
  "language_info": {
   "codemirror_mode": {
    "name": "ipython",
    "version": 3
   },
   "file_extension": ".py",
   "mimetype": "text/x-python",
   "name": "python",
   "nbconvert_exporter": "python",
   "pygments_lexer": "ipython3",
   "version": "3.10.9"
  }
 },
 "nbformat": 4,
 "nbformat_minor": 5
}
